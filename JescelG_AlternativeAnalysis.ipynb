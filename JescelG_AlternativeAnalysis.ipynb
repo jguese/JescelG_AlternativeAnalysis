{
  "nbformat": 4,
  "nbformat_minor": 0,
  "metadata": {
    "colab": {
      "name": "JescelG-AlternativeAnalysis.ipynb",
      "provenance": [],
      "collapsed_sections": [],
      "authorship_tag": "ABX9TyMwoD5EIA+//0VXFXDyh/4j",
      "include_colab_link": true
    },
    "kernelspec": {
      "name": "python3",
      "display_name": "Python 3"
    },
    "language_info": {
      "name": "python"
    }
  },
  "cells": [
    {
      "cell_type": "markdown",
      "metadata": {
        "id": "view-in-github",
        "colab_type": "text"
      },
      "source": [
        "<a href=\"https://colab.research.google.com/github/jguese/JescelG_AlternativeAnalysis/blob/main/JescelG_AlternativeAnalysis.ipynb\" target=\"_parent\"><img src=\"https://colab.research.google.com/assets/colab-badge.svg\" alt=\"Open In Colab\"/></a>"
      ]
    },
    {
      "cell_type": "code",
      "execution_count": null,
      "metadata": {
        "colab": {
          "base_uri": "https://localhost:8080/"
        },
        "id": "BISPV_gnpZar",
        "outputId": "e760847c-d459-4c5c-ca76-f2d5e8a2319b"
      },
      "outputs": [
        {
          "output_type": "stream",
          "name": "stdout",
          "text": [
            "Empty DataFrame\n",
            "Columns: [criteria, weight, ratingA, ratingB, scoreA, scoreB]\n",
            "Index: []\n"
          ]
        }
      ],
      "source": [
        "import pandas as pd\n",
        "import math \n",
        "\n",
        "#create a dataframe for our alternative analysis\n",
        "AA=pd.DataFrame(columns=['criteria','weight','ratingA', 'ratingB','scoreA','scoreB'])\n",
        "print(AA)"
      ]
    },
    {
      "cell_type": "code",
      "source": [
        "#first step: add a list of criteria\n",
        "AA['criteria']=['risk','ROI','customer satisfaction','feasibility','strategic alignment']\n",
        "print(AA)"
      ],
      "metadata": {
        "colab": {
          "base_uri": "https://localhost:8080/"
        },
        "id": "vXF7xG0vtCAv",
        "outputId": "bf0eb2e3-a22c-405e-c896-adbeb520027a"
      },
      "execution_count": null,
      "outputs": [
        {
          "output_type": "stream",
          "name": "stdout",
          "text": [
            "                criteria weight ratingA ratingB scoreA scoreB\n",
            "0                   risk    NaN     NaN     NaN    NaN    NaN\n",
            "1                    ROI    NaN     NaN     NaN    NaN    NaN\n",
            "2  customer satisfaction    NaN     NaN     NaN    NaN    NaN\n",
            "3            feasibility    NaN     NaN     NaN    NaN    NaN\n",
            "4    strategic alignment    NaN     NaN     NaN    NaN    NaN\n"
          ]
        }
      ]
    },
    {
      "cell_type": "code",
      "source": [
        "#second step: identify weights\n",
        "#weights show relative importance of each criterion\n",
        "#they must add up to 100 or 1 \n",
        "\n",
        "AA['weight']=[0.1,0.15,.3,.15,.3]\n",
        "print(AA)"
      ],
      "metadata": {
        "colab": {
          "base_uri": "https://localhost:8080/"
        },
        "id": "siP-2u0RuXkN",
        "outputId": "f089f313-db54-42b5-9865-b73e7f105b65"
      },
      "execution_count": null,
      "outputs": [
        {
          "output_type": "stream",
          "name": "stdout",
          "text": [
            "                criteria  weight ratingA ratingB scoreA scoreB\n",
            "0                   risk    0.10     NaN     NaN    NaN    NaN\n",
            "1                    ROI    0.15     NaN     NaN    NaN    NaN\n",
            "2  customer satisfaction    0.30     NaN     NaN    NaN    NaN\n",
            "3            feasibility    0.15     NaN     NaN    NaN    NaN\n",
            "4    strategic alignment    0.30     NaN     NaN    NaN    NaN\n"
          ]
        }
      ]
    },
    {
      "cell_type": "code",
      "source": [
        "#step 3: rate each alternative across all criteria\n",
        "#choose a scale: 1-5\n",
        "#hgher number: analternative is doing better with respect to that specific criteria\n",
        "\n",
        "AA['ratingA']=[4,1,2,1,5]\n",
        "AA['ratingB']=[3,4,2,3,2]\n",
        "\n",
        "#step 4: calculate partial scores by multiplying weights * ratings\n",
        "#using iterrows() in Python is not recommended - is an anti pattern\n",
        "\n",
        "for index, row in AA.iterrows():\n",
        "  AA['scoreA'][index]=row['ratingA']*row['weight']\n",
        "  AA['scoreB'][index]=row['ratingB']*row['weight']\n",
        "\n",
        "print(AA)"
      ],
      "metadata": {
        "colab": {
          "base_uri": "https://localhost:8080/"
        },
        "id": "jr_LRUXWusgm",
        "outputId": "b33f108c-3c75-4e2f-c83c-0ab6662a7e28"
      },
      "execution_count": null,
      "outputs": [
        {
          "output_type": "stream",
          "name": "stdout",
          "text": [
            "                criteria  weight  ratingA  ratingB scoreA scoreB\n",
            "0                   risk    0.10        4        3    0.4    0.3\n",
            "1                    ROI    0.15        1        4   0.15    0.6\n",
            "2  customer satisfaction    0.30        2        2    0.6    0.6\n",
            "3            feasibility    0.15        1        3   0.15   0.45\n",
            "4    strategic alignment    0.30        5        2    1.5    0.6\n"
          ]
        },
        {
          "output_type": "stream",
          "name": "stderr",
          "text": [
            "/usr/local/lib/python3.7/dist-packages/ipykernel_launcher.py:12: SettingWithCopyWarning: \n",
            "A value is trying to be set on a copy of a slice from a DataFrame\n",
            "\n",
            "See the caveats in the documentation: https://pandas.pydata.org/pandas-docs/stable/user_guide/indexing.html#returning-a-view-versus-a-copy\n",
            "  if sys.path[0] == '':\n",
            "/usr/local/lib/python3.7/dist-packages/ipykernel_launcher.py:13: SettingWithCopyWarning: \n",
            "A value is trying to be set on a copy of a slice from a DataFrame\n",
            "\n",
            "See the caveats in the documentation: https://pandas.pydata.org/pandas-docs/stable/user_guide/indexing.html#returning-a-view-versus-a-copy\n",
            "  del sys.path[0]\n"
          ]
        }
      ]
    },
    {
      "cell_type": "code",
      "source": [
        "totalScoreA=0\n",
        "totalScoreB=0\n",
        "for index, row in AA.iterrows():\n",
        "  totalScoreA+=row['scoreA']\n",
        "  totalScoreB+=row['scoreB']\n",
        "\n",
        "print('total score for alternative A is {:.2f} and for B is {:.2f}'.format(totalScoreA,totalScoreB))"
      ],
      "metadata": {
        "colab": {
          "base_uri": "https://localhost:8080/"
        },
        "id": "6A8RLGdtwOk3",
        "outputId": "9c13c481-f1fd-4fad-acf6-e72ceaac3ed7"
      },
      "execution_count": null,
      "outputs": [
        {
          "output_type": "stream",
          "name": "stdout",
          "text": [
            "total score for alternative A is 2.80 and for B is 2.55\n"
          ]
        }
      ]
    }
  ]
}